{
 "cells": [
  {
   "cell_type": "code",
   "execution_count": null,
   "id": "e15aed56",
   "metadata": {},
   "outputs": [],
   "source": [
    "import pandas as pd\n",
    "\n",
    "raw_data = pd.read_excel(\"澤米2024年度資料.xls\")\n",
    "\n",
    "new_cols = [\n",
    "    \"時間\", \"經常\", \"尖峰\", \"半尖峰\", \"週六半尖峰\", \"離峰\", \"儲冷尖峰\", \"儲冷半尖峰\", \"儲冷週六半尖峰\", \"儲冷離峰\",\n",
    "    \"太陽光電\"\n",
    "]\n",
    "\n",
    "\n",
    "def process_row(row, df):\n",
    "    dt = pd.to_datetime(row.iloc[0]).replace(minute=0, second=0)\n",
    "    for i in range(4):\n",
    "        time = dt.replace(minute=i * 15, second=0).strftime(\"%Y-%m-%d %H:%M\")\n",
    "        idx = len(df)\n",
    "        df.loc[idx] = [None] * len(new_cols)\n",
    "        df.at[idx, new_cols[0]] = time\n",
    "        df.at[idx, new_cols[2]] = row.iloc[1]\n",
    "\n",
    "\n",
    "new_df = pd.DataFrame(columns=new_cols)\n",
    "pd.DataFrame(raw_data.apply(lambda row: process_row(row, new_df), axis=1))\n",
    "new_df.to_excel(\"澤米2024年度資料_整理後.xlsx\", index=False)\n"
   ]
  }
 ],
 "metadata": {
  "kernelspec": {
   "display_name": "spider",
   "language": "python",
   "name": "python3"
  },
  "language_info": {
   "codemirror_mode": {
    "name": "ipython",
    "version": 3
   },
   "file_extension": ".py",
   "mimetype": "text/x-python",
   "name": "python",
   "nbconvert_exporter": "python",
   "pygments_lexer": "ipython3",
   "version": "3.12.9"
  }
 },
 "nbformat": 4,
 "nbformat_minor": 5
}
