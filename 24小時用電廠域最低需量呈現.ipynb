{
 "cells": [
  {
   "cell_type": "code",
   "execution_count": null,
   "id": "877c3af5",
   "metadata": {},
   "outputs": [],
   "source": [
    "import pandas as pd\n",
    "import matplotlib.pyplot as plt\n",
    "from matplotlib import rcParams\n",
    "from matplotlib.patches import Patch\n",
    "import numpy as np\n",
    "\n",
    "pd.options.mode.chained_assignment = None  # default='warn'\n",
    "# 設置微軟正黑體為全域字體\n",
    "rcParams['font.family'] = 'Microsoft JhengHei'"
   ]
  },
  {
   "cell_type": "code",
   "execution_count": null,
   "id": "843c27f0",
   "metadata": {},
   "outputs": [],
   "source": [
    "# 讀取 Excel 檔案\n",
    "file_path = \"科中路6F-8Fmeter_21276307021_data.xlsx\"\n",
    "raw_data = pd.read_excel(file_path)\n",
    "time_col = \"時間\"\n",
    "usage_col = \"用電總量\"\n",
    "default_drop_cols = ['儲冷尖峰', '儲冷半尖峰', '儲冷週六半尖峰', '儲冷離峰', '太陽光電']\n",
    "raw_data.drop(columns=default_drop_cols, inplace=True, errors='ignore')\n",
    "# 將時間欄位轉換為日期時間格式\n",
    "raw_data[time_col] = pd.to_datetime(raw_data[time_col])\n",
    "\n",
    "columns_to_sum = ['尖峰', '半尖峰', '週六半尖峰', '離峰']\n",
    "raw_data[columns_to_sum] = raw_data[columns_to_sum] \n",
    "raw_data[usage_col] = raw_data[columns_to_sum].apply(\n",
    "    lambda row: row.dropna().unique()[0]\n",
    "    if row.nunique() == 1 else row.mode().iloc[0],\n",
    "    axis=1)\n",
    "raw_data = raw_data.drop(columns=columns_to_sum)"
   ]
  },
  {
   "cell_type": "code",
   "execution_count": null,
   "id": "e68a1a58",
   "metadata": {},
   "outputs": [],
   "source": [
    "year_col = \"年份\"\n",
    "month_col = \"月份\"\n",
    "day_col = \"日\"\n",
    "hour_col = \"小時\"\n",
    "minute_col = \"分鐘\"\n",
    "raw_data[year_col] = raw_data[time_col].dt.year\n",
    "raw_data[month_col] = raw_data[time_col].dt.month\n",
    "raw_data[day_col] = raw_data[time_col].dt.day\n",
    "raw_data[hour_col] = raw_data[time_col].dt.hour\n",
    "raw_data[minute_col] = raw_data[time_col].dt.minute\n",
    "summary = raw_data.groupby([month_col,day_col, hour_col, minute_col])[usage_col].min().reset_index()\n",
    "minimum_day_list =[]\n",
    "for month in summary[month_col].unique():\n",
    "    month_summary = summary[summary[month_col] == month]\n",
    "    minimum_day = None\n",
    "    for day in month_summary[day_col].unique():\n",
    "        day_summary = month_summary[month_summary[day_col] == day]\n",
    "        if minimum_day is None or minimum_day[usage_col].mean() < day_summary[usage_col].mean():\n",
    "            minimum_day = day_summary\n",
    "    minimum_day_list.append(minimum_day)\n"
   ]
  },
  {
   "cell_type": "code",
   "execution_count": null,
   "id": "2e279745",
   "metadata": {},
   "outputs": [],
   "source": [
    "\n",
    "fig, axes = plt.subplots(nrows=3, ncols=4, figsize=(16, 7))\n",
    "for i, ax in enumerate(axes.flat):  # 使用 .flat 方便逐一訪問所有子圖\n",
    "    time_labels = [f\"{h:02d}:{m:02d}\" for h, m in zip(minimum_day_list[i][hour_col], minimum_day_list[i][minute_col])]\n",
    "    x = time_labels\n",
    "    y = minimum_day_list[i][usage_col]\n",
    "\n",
    "    y_minimum = y.min()\n",
    "    x_idx = np.where(y == y.min())[0][0]  # 找到最小值的索引\n",
    "\n",
    "    ax.plot(x, y)\n",
    "    ax.scatter(x[x_idx], y_minimum, color='red', label=f'最低需量: {y_minimum}', zorder=5, )  # 標記最小值\n",
    "    tick_positions = list(range(0, len(time_labels), 16))\n",
    "    if len(time_labels) - 1 not in tick_positions:\n",
    "        tick_positions.append(len(time_labels) - 1)  # 加入最後一個 `tick`\n",
    "\n",
    "    ax.set_xticks(tick_positions)\n",
    "    ax.set_xticklabels([time_labels[j] for j in tick_positions], rotation=45)\n",
    "    ax.set_xlim(left=0, right=len(time_labels))  # X 軸從 0 開始\n",
    "    ax.set_ylim(bottom=y_minimum*0.95)\n",
    "    ax.set_title(f'{i+1} 月份15分鐘最低用電需量')\n",
    "    ax.legend(loc='upper right', fontsize=8)\n",
    "fig.suptitle('科中路6F-8F 15分鐘最低用電需量', fontsize=16, y=1.05)\n",
    "# 調整子圖間距\n",
    "plt.tight_layout()\n",
    "plt.show()"
   ]
  }
 ],
 "metadata": {
  "kernelspec": {
   "display_name": "spider",
   "language": "python",
   "name": "python3"
  },
  "language_info": {
   "codemirror_mode": {
    "name": "ipython",
    "version": 3
   },
   "file_extension": ".py",
   "mimetype": "text/x-python",
   "name": "python",
   "nbconvert_exporter": "python",
   "pygments_lexer": "ipython3",
   "version": "3.12.9"
  }
 },
 "nbformat": 4,
 "nbformat_minor": 5
}
